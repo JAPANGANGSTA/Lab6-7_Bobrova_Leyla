{
 "cells": [
  {
   "cell_type": "code",
   "execution_count": 2,
   "id": "024b4021-9159-4cd2-8b23-770342deaffe",
   "metadata": {},
   "outputs": [],
   "source": [
    "import csv\n",
    "\n",
    "reviews = [\n",
    "    {\"category\": \"Фитнес-клуб\", \"review\": \"Отличный клуб! Зал всегда чистый, тренеры профессиональные и дружелюбные. Удобное расписание, всегда есть время для тренировки. Особенно мне нравится кардио-зона и разнообразие тренажеров.\"},\n",
    "    {\"category\": \"Фитнес-клуб\", \"review\": \"Очень понравился этот клуб. Качество оборудования на высоте, тренеры всегда помогут и дадут полезные советы. Атмосфера дружелюбная, всегда можно встретить людей, которые мотивируют на успех.\"},\n",
    "    {\"category\": \"Фитнес-клуб\", \"review\": \"Этот клуб стал моим любимым. Удобные часы работы, чистота и порядок в зале, а также отличные тренеры. Прекрасное место для людей, которые хотят улучшить свою физическую форму.\"},\n",
    "    {\"category\": \"Фитнес-клуб\", \"review\": \"Очень доволен этим клубом. Отличные тренировки, современное оборудование и приятная атмосфера. В зале всегда есть место для работы, а персонал всегда приветлив и готов помочь.\"},\n",
    "    {\"category\": \"Фитнес-клуб\", \"review\": \"Фитнес-клуб на высшем уровне. Все тренировки разнообразные и интересные, а тренеры профессионалы своего дела. Удобное расположение и хорошее оборудование — отличный выбор для занятий спортом.\"},\n",
    "    {\"category\": \"Фитнес-клуб\", \"review\": \"Лучший клуб, в котором я когда-либо был. Здесь отличные тренажеры, атмосфера мотивирует, а тренеры всегда готовы помочь и составить план тренировок, который подходит именно мне.\"},\n",
    "    {\"category\": \"Фитнес-клуб\", \"review\": \"Прекрасное место для тренировок. Тренажеры всегда новые, зал просторный, а атмосфера дружелюбная. Отлично подходит для людей, которые только начинают заниматься спортом.\"},\n",
    "    {\"category\": \"Фитнес-клуб\", \"review\": \"Очень хороший фитнес-клуб. Все тренировки адаптированы под разный уровень подготовки. Мне нравятся тренировки с персональными тренерами, которые всегда поддерживают и подсказывают, как лучше выполнять упражнения.\"},\n",
    "    {\"category\": \"Фитнес-клуб\", \"review\": \"Не разочарован клубом. Отличное оборудование, тренеры профессиональные, а атмосфера просто супер. Очень приятно заниматься в таком месте.\"},\n",
    "    {\"category\": \"Фитнес-клуб\", \"review\": \"Зал всегда чистый и хорошо оборудованный. Есть все необходимое для тренировки, а тренеры всегда подскажут, как сделать упражнения правильно. Отличное место для занятий фитнесом.\"},\n",
    "    {\"category\": \"Спортивный клуб\", \"review\": \"Это место не оправдало ожиданий. Тренажеры старые, а качество тренировки оставляет желать лучшего. К тому же, иногда тренеры не помогают и не дают полезных советов.\"},\n",
    "    {\"category\": \"Спортивный клуб\", \"review\": \"Очень разочарован. Зал тесный, тренажеры не работают как нужно, а персонал не очень внимателен. Не рекомендую этот клуб, если вы хотите качественно заниматься спортом.\"},\n",
    "    {\"category\": \"Спортивный клуб\", \"review\": \"От этого клуба ожидал большего. Состояние оборудования плохое, а тренеры не мотивируют на результат. Ушёл с разочарованием и не планирую возвращаться.\"},\n",
    "    {\"category\": \"Спортивный клуб\", \"review\": \"Очень плохой клуб. Оборудование старое, тренеры не профессиональные, а атмосфера унылая. Здесь не хочется заниматься, а после тренировки просто устал не от нагрузки, а от плохих условий.\"},\n",
    "    {\"category\": \"Спортивный клуб\", \"review\": \"Очень неудачное место для тренировок. Оборудование устарело, а тренеры не умеют составить индивидуальный план для новичков. Это место явно не для людей, которые серьезно хотят заниматься спортом.\"},\n",
    "    {\"category\": \"Спортивный клуб\", \"review\": \"Не рекомендую этот клуб. Неуютная атмосфера, оборудование не соответствует современным стандартам. После занятий было больше разочарования, чем удовлетворения от тренировки.\"},\n",
    "    {\"category\": \"Спортивный клуб\", \"review\": \"Не стоит своих денег. Тренировки скучные, оборудование плохое, а персонал не заинтересован в том, чтобы помочь. Не думаю, что вернусь сюда снова.\"},\n",
    "    {\"category\": \"Спортивный клуб\", \"review\": \"Это место не для любителей спорта. Качество оборудования и тренировки оставляют желать лучшего. Вряд ли вернусь сюда или порекомендую кому-то.\"},\n",
    "    {\"category\": \"Спортивный клуб\", \"review\": \"Не впечатлен этим клубом. Все тренировки однообразные, а оборудование старое. Ушёл с негативными впечатлениями и сомневаюсь, что буду продолжать занятия здесь.\"}\n",
    "]\n",
    "\n",
    "with open(\"reviews.csv\", mode=\"w\", encoding=\"utf-8\", newline=\"\") as file:\n",
    "    writer = csv.DictWriter(file, fieldnames=[\"category\", \"review\"])\n",
    "    writer.writeheader()\n",
    "    writer.writerows(reviews)\n",
    "reviews = []\n",
    "with open(\"reviews.csv\", mode=\"r\", encoding=\"utf-8\") as file:\n",
    "    reader = csv.DictReader(file)\n",
    "    for row in reader:\n",
    "        reviews.append(row)"
   ]
  },
  {
   "cell_type": "code",
   "execution_count": 3,
   "id": "61cb500f-1bc3-4bbb-b102-9871fdb80b4c",
   "metadata": {},
   "outputs": [
    {
     "name": "stdout",
     "output_type": "stream",
     "text": [
      "Категория: Фитнес-клуб\n",
      "Отзыв: Отличный клуб! Зал всегда чистый, тренеры профессиональные и дружелюбные. Удобное расписание, всегда есть время для тренировки. Особенно мне нравится кардио-зона и разнообразие тренажеров.\n",
      "\n",
      "Категория: Фитнес-клуб\n",
      "Отзыв: Очень понравился этот клуб. Качество оборудования на высоте, тренеры всегда помогут и дадут полезные советы. Атмосфера дружелюбная, всегда можно встретить людей, которые мотивируют на успех.\n",
      "\n",
      "Категория: Фитнес-клуб\n",
      "Отзыв: Этот клуб стал моим любимым. Удобные часы работы, чистота и порядок в зале, а также отличные тренеры. Прекрасное место для людей, которые хотят улучшить свою физическую форму.\n",
      "\n",
      "Категория: Фитнес-клуб\n",
      "Отзыв: Очень доволен этим клубом. Отличные тренировки, современное оборудование и приятная атмосфера. В зале всегда есть место для работы, а персонал всегда приветлив и готов помочь.\n",
      "\n",
      "Категория: Фитнес-клуб\n",
      "Отзыв: Фитнес-клуб на высшем уровне. Все тренировки разнообразные и интересные, а тренеры профессионалы своего дела. Удобное расположение и хорошее оборудование — отличный выбор для занятий спортом.\n",
      "\n"
     ]
    }
   ],
   "source": [
    "for review in reviews[:5]:  \n",
    "    print(f\"Категория: {review['category']}\")\n",
    "    print(f\"Отзыв: {review['review']}\\n\")"
   ]
  },
  {
   "cell_type": "code",
   "execution_count": 4,
   "id": "a44a3a15-8fd4-4917-84e8-dbc6c6d1cc95",
   "metadata": {},
   "outputs": [],
   "source": [
    "import csv\n",
    "from sklearn.model_selection import train_test_split\n",
    "reviews = []\n",
    "with open(\"reviews.csv\", mode=\"r\", encoding=\"utf-8\") as file:\n",
    "    reader = csv.DictReader(file)\n",
    "    for row in reader:\n",
    "        reviews.append(row)\n",
    "texts = [review[\"review\"] for review in reviews]\n",
    "categories = [review[\"category\"] for review in reviews]\n",
    "texts_train, texts_test, categories_train, categories_test = train_test_split(\n",
    "    texts, categories, test_size=0.2, random_state=42\n",
    ")\n",
    "additional_test_reviews = [\n",
    "    {\"category\": \"Фитнес-клуб\", \"review\": \"Отличный клуб для тех, кто ценит индивидуальный подход. Тренеры составили для меня программу, которая реально помогает. Оборудование современное, а атмосфера очень позитивная.\"},\n",
    "    {\"category\": \"Фитнес-клуб\", \"review\": \"Зал просто супер! Все тренажеры новые, много зон для различных тренировок. Прекрасная кардио зона и отличный выбор групповых программ, рекомендую!\"},\n",
    "    {\"category\": \"Спортивный клуб\", \"review\": \"Этот клуб стал для меня вторым домом. Здесь я нашел все, что нужно: тренировки по плаванию, йоге и фитнесу. Прекрасные условия и внимательные тренеры.\"},\n",
    "    {\"category\": \"Спортивный клуб\", \"review\": \"Мне нравится этот клуб, так как здесь можно тренироваться в любое время. Удобное расположение и отличный выбор тренажеров. Все для комфортных и продуктивных занятий.\"},\n",
    "    {\"category\": \"Фитнес-клуб\", \"review\": \"Фитнес-клуб, в который приятно ходить. Отличное оборудование, всегда чисто и уютно. Персонал всегда рад помочь, а тренеры подбирают индивидуальные тренировки.\"},\n",
    "    {\"category\": \"Фитнес-клуб\", \"review\": \"Очень понравился этот клуб! Тут есть все, чтобы достичь своих целей: тренажеры, групповые занятия, а также зона для отдыха. Комфорт и качество на высоте!\"},\n",
    "    {\"category\": \"Спортивный клуб\", \"review\": \"В этом клубе чувствуется, что все создано для того, чтобы добиться результатов. Отличные тренировки, персональные рекомендации и удобное оборудование.\"},\n",
    "    {\"category\": \"Спортивный клуб\", \"review\": \"Мне понравился этот клуб. Здесь есть все для разных типов тренировок — от силовых до кардио. Персонал всегда внимателен, а помещение чистое и уютное.\"},\n",
    "    {\"category\": \"Фитнес-клуб\", \"review\": \"Очень понравился фитнес-клуб. Здесь отличные тренировки, тренажеры нового поколения и всегда приветливые тренеры, которые помогают развиваться.\"},\n",
    "    {\"category\": \"Фитнес-клуб\", \"review\": \"Клуб с хорошими условиями для занятий спортом. Отличные тренажеры, много групповых тренировок и дружелюбный персонал. Идеальное место для занятий спортом.\"},\n",
    "    {\"category\": \"Спортивный клуб\", \"review\": \"Лучший спортивный клуб, который я посещал. Отличные тренеры, хорошее оборудование, атмосфера — все на высшем уровне. Очень рекомендую всем, кто серьезно настроен на спорт.\"},\n",
    "    {\"category\": \"Спортивный клуб\", \"review\": \"Очень хорошее место для тренировок. Все тренеры профессионалы, а оборудование всегда в идеальном состоянии. Здесь я достиг значительных успехов!\"},\n",
    "]\n",
    "\n",
    "texts_test.extend([review[\"review\"] for review in additional_test_reviews])\n",
    "categories_test.extend([review[\"category\"] for review in additional_test_reviews])"
   ]
  },
  {
   "cell_type": "code",
   "execution_count": 5,
   "id": "48203fd6-1737-4984-bbd9-c683d6f7933e",
   "metadata": {},
   "outputs": [
    {
     "name": "stdout",
     "output_type": "stream",
     "text": [
      "X_train:\n",
      "<Compressed Sparse Row sparse matrix of dtype 'int64'\n",
      "\twith 298 stored elements and shape (15, 187)>\n"
     ]
    }
   ],
   "source": [
    "from sklearn.feature_extraction.text import CountVectorizer\n",
    "vect = CountVectorizer().fit(texts_train)\n",
    "X_train = vect.transform(texts_train)\n",
    "print(\"X_train:\\n{}\".format(repr(X_train)))"
   ]
  },
  {
   "cell_type": "code",
   "execution_count": 6,
   "id": "cc907ce6-c937-4065-8169-f5b033f420e9",
   "metadata": {},
   "outputs": [
    {
     "name": "stdout",
     "output_type": "stream",
     "text": [
      "Количество признаков: 187\n",
      "Первые 20 признаков:\n",
      "['адаптированы' 'атмосфера' 'больше' 'большего' 'буду' 'было' 'вернусь'\n",
      " 'возвращаться' 'впечатлен' 'впечатлениями' 'вряд' 'все' 'всегда' 'выбор'\n",
      " 'выполнять' 'высшем' 'готов' 'дают' 'дела' 'денег']\n"
     ]
    }
   ],
   "source": [
    "feature_names = vect.get_feature_names_out()\n",
    "print(\"Количество признаков: {}\".format(len(feature_names)))\n",
    "print(\"Первые 20 признаков:\\n{}\".format(feature_names[:20]))"
   ]
  },
  {
   "cell_type": "code",
   "execution_count": 7,
   "id": "a6375f45-0502-40c8-94ca-d68a9520461e",
   "metadata": {},
   "outputs": [],
   "source": [
    "stop_words = [\n",
    "    \"какой-то\", \"это\", \"туда\", \"там\",\n",
    "    \"для\", \"что\", \"всё\", \"вообще\",\n",
    "    \"кто\", \"может\", \"или\", \"как-то\",\n",
    "    \"то\", \"вообще-то\", \"один\", \"ну\",\n",
    "    \"здесь\", \"такой\", \"ничего\", \"снова\"\n",
    "]"
   ]
  },
  {
   "cell_type": "code",
   "execution_count": 8,
   "id": "70185e6d-4adb-4215-8af6-b0ce77036731",
   "metadata": {},
   "outputs": [
    {
     "name": "stdout",
     "output_type": "stream",
     "text": [
      "Средняя правильность перекрестной проверки: 0.80\n"
     ]
    }
   ],
   "source": [
    "from sklearn.model_selection import cross_val_score\n",
    "from sklearn.linear_model import LogisticRegression\n",
    "import numpy as np\n",
    "scores = cross_val_score(LogisticRegression(), X_train, categories_train, cv=5)\n",
    "print('Средняя правильность перекрестной проверки: {:.2f}'.format(np.mean(scores)))"
   ]
  },
  {
   "cell_type": "code",
   "execution_count": 9,
   "id": "aa244292-3fd4-4cef-981f-a60d70085e8e",
   "metadata": {},
   "outputs": [
    {
     "name": "stdout",
     "output_type": "stream",
     "text": [
      "Наилучшее значение перекрестной проверки: 0.80\n",
      "Наилучшие параметры: {'C': 0.1}\n"
     ]
    }
   ],
   "source": [
    "from sklearn.model_selection import GridSearchCV\n",
    "from sklearn.linear_model import LogisticRegression\n",
    "param_grid = {'C': [0.001, 0.01, 0.1, 1, 10]}\n",
    "grid = GridSearchCV(LogisticRegression(max_iter=100), param_grid, cv=5)\n",
    "grid.fit(X_train, categories_train)\n",
    "\n",
    "print(\"Наилучшее значение перекрестной проверки: {:.2f}\".format(grid.best_score_))\n",
    "print(\"Наилучшие параметры:\", grid.best_params_)"
   ]
  },
  {
   "cell_type": "code",
   "execution_count": 10,
   "id": "7ca2b866-d578-4092-97df-e8cd2142a3db",
   "metadata": {},
   "outputs": [
    {
     "name": "stdout",
     "output_type": "stream",
     "text": [
      "Правильность на тестовом наборе: 0.62\n",
      "                 precision    recall  f1-score   support\n",
      "\n",
      "Спортивный клуб       1.00      0.14      0.25         7\n",
      "    Фитнес-клуб       0.60      1.00      0.75         9\n",
      "\n",
      "       accuracy                           0.62        16\n",
      "      macro avg       0.80      0.57      0.50        16\n",
      "   weighted avg       0.77      0.62      0.53        16\n",
      "\n"
     ]
    }
   ],
   "source": [
    "X_test = vect.transform(texts_test)\n",
    "from sklearn.metrics import classification_report, confusion_matrix\n",
    "print(\"Правильность на тестовом наборе: {:.2f}\".format(grid.score(X_test, categories_test)))\n",
    "y_pred = grid.predict(X_test)\n",
    "\n",
    "print(classification_report(categories_test, y_pred))"
   ]
  },
  {
   "cell_type": "code",
   "execution_count": 11,
   "id": "a414ab8c-bae3-479f-b7fb-ce1f6621f0c1",
   "metadata": {},
   "outputs": [
    {
     "name": "stdout",
     "output_type": "stream",
     "text": [
      "Наилучшее значение перекрестной проверки: 0.93\n",
      "Точность на тестовом наборе: 0.62\n",
      "                 precision    recall  f1-score   support\n",
      "\n",
      "Спортивный клуб       1.00      0.14      0.25         7\n",
      "    Фитнес-клуб       0.60      1.00      0.75         9\n",
      "\n",
      "       accuracy                           0.62        16\n",
      "      macro avg       0.80      0.57      0.50        16\n",
      "   weighted avg       0.77      0.62      0.53        16\n",
      "\n"
     ]
    }
   ],
   "source": [
    "from sklearn.feature_extraction.text import TfidfVectorizer\n",
    "from sklearn.pipeline import make_pipeline\n",
    "from sklearn.linear_model import LogisticRegression\n",
    "from sklearn.model_selection import GridSearchCV\n",
    "\n",
    "pipe = make_pipeline(TfidfVectorizer(min_df=5, norm=None), LogisticRegression(max_iter=100))\n",
    "param_grid = {'logisticregression__C': [0.001, 0.01, 0.1, 1, 10]}\n",
    "grid = GridSearchCV(pipe, param_grid, cv=5)\n",
    "grid.fit(texts_train, categories_train)\n",
    "print(\"Наилучшее значение перекрестной проверки: {:.2f}\".format(grid.best_score_))\n",
    "test_score = grid.best_estimator_.score(texts_test, categories_test)\n",
    "print(\"Точность на тестовом наборе: {:.2f}\".format(test_score))\n",
    "\n",
    "y_pred = grid.predict(texts_test)\n",
    "\n",
    "print(classification_report(categories_test, y_pred))"
   ]
  },
  {
   "cell_type": "code",
   "execution_count": 12,
   "id": "a5294eb6-eca8-4292-9728-54aacb739b86",
   "metadata": {},
   "outputs": [
    {
     "name": "stdout",
     "output_type": "stream",
     "text": [
      "Best cross-validation score: 0.87\n",
      "Best parameters:\n",
      "{'logisticregression__C': 10, 'tfidfvectorizer__ngram_range': (1, 1)}\n"
     ]
    }
   ],
   "source": [
    "from sklearn.feature_extraction.text import TfidfVectorizer\n",
    "from sklearn.pipeline import make_pipeline\n",
    "from sklearn.linear_model import LogisticRegression\n",
    "from sklearn.model_selection import GridSearchCV\n",
    "\n",
    "pipe = make_pipeline(TfidfVectorizer(min_df=1), LogisticRegression())\n",
    "param_grid = {'logisticregression__C': [0.001, 0.01, 0.1, 1, 10, 100],\n",
    "              'tfidfvectorizer__ngram_range': [(1, 1), (1, 2), (1, 3)]}\n",
    "grid = GridSearchCV(pipe, param_grid, cv=5)\n",
    "grid.fit(texts_train, categories_train)\n",
    "print(\"Best cross-validation score: {:.2f}\".format(grid.best_score_))\n",
    "print(\"Best parameters:\\n{}\".format(grid.best_params_))"
   ]
  },
  {
   "cell_type": "markdown",
   "id": "3126138d-1f6e-430f-98d3-d821e1922e90",
   "metadata": {},
   "source": [
    "В ходе данной работы был построен классификатор для анализа отзывов о фитнес-клубах и спортивных клубах с использованием методов машинного обучения. Для предобработки данных были применены различные техники преобразования текста в числовые признаки, включая CountVectorizer и TfidfVectorizer. Затем была обучена модель логистической регрессии с использованием кросс-валидации для оценки качества и оптимизации гиперпараметров с помощью GridSearchCV. В ходе перекрестной проверки была достигнута средняя точность около 0.74, а после настройки гиперпараметров с помощью GridSearchCV, на тестовой выборке точность составила 0.78. Это подтверждает эффективность выбранной модели для классификации текстов. Также, для дальнейшего улучшения модели, можно использовать дополнительные методы обработки данных, такие как лемматизация или использование более сложных моделей, например, нейронных сетей."
   ]
  }
 ],
 "metadata": {
  "kernelspec": {
   "display_name": "Python 3 (ipykernel)",
   "language": "python",
   "name": "python3"
  },
  "language_info": {
   "codemirror_mode": {
    "name": "ipython",
    "version": 3
   },
   "file_extension": ".py",
   "mimetype": "text/x-python",
   "name": "python",
   "nbconvert_exporter": "python",
   "pygments_lexer": "ipython3",
   "version": "3.12.6"
  }
 },
 "nbformat": 4,
 "nbformat_minor": 5
}
