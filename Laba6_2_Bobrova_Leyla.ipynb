{
 "cells": [
  {
   "cell_type": "code",
   "execution_count": 3,
   "id": "41d32c73-5726-40f0-a516-939d97dc6da9",
   "metadata": {},
   "outputs": [
    {
     "name": "stdout",
     "output_type": "stream",
     "text": [
      "Model Accuracy: 0.19\n",
      "\n",
      "Classification Report:\n",
      "              precision    recall  f1-score   support\n",
      "\n",
      "           0       0.22      0.43      0.29        42\n",
      "           1       0.19      0.10      0.13        31\n",
      "           2       0.17      0.08      0.11        24\n",
      "           3       0.19      0.15      0.17        34\n",
      "           4       0.12      0.17      0.14        29\n",
      "           5       0.21      0.12      0.16        40\n",
      "\n",
      "    accuracy                           0.19       200\n",
      "   macro avg       0.18      0.18      0.17       200\n",
      "weighted avg       0.19      0.19      0.17       200\n",
      "\n"
     ]
    }
   ],
   "source": [
    "import random\n",
    "import pandas as pd\n",
    "from sklearn.model_selection import train_test_split\n",
    "from sklearn.ensemble import RandomForestClassifier\n",
    "from sklearn.metrics import accuracy_score, classification_report\n",
    "\n",
    "cities = ['Mumbai', 'Istanbul', 'Prague', 'Vienna', 'Lisbon', 'Shanghai', 'Cairo']\n",
    "vacation = ['island', 'jungle', 'city', 'hills', 'savanna']\n",
    "transport = ['skateboard', 'rollerblades', 'bus', 'helicopter', 'truck', 'canoe']\n",
    "target_cities = ['Venice', 'Santorini', 'Buenos Aires', 'Maldives', 'Auckland', 'Amsterdam', 'Doha']\n",
    "\n",
    "data = []\n",
    "for _ in range(1000):\n",
    "    salary = random.randint(30000, 150000)\n",
    "    city = random.choice(cities)\n",
    "    age = random.randint(20, 70)\n",
    "    vacation_prefer = random.choice(vacation)\n",
    "    transport_prefer = random.choice(transport)\n",
    "    target = random.choice(target_cities)\n",
    "    data.append([salary, city, age, vacation_prefer, transport_prefer, target])\n",
    "\n",
    "columns = ['salary', 'city', 'age', 'vacation_prefer', 'transport_prefer', 'target']\n",
    "df = pd.DataFrame(data, columns=columns)\n",
    "\n",
    "df = pd.get_dummies(df, columns=['city', 'vacation_prefer', 'transport_prefer', 'target'], drop_first=True)\n",
    "\n",
    "X = df.drop(columns=[col for col in df.columns if col.startswith('target_')])\n",
    "y = df[[col for col in df.columns if col.startswith('target_')]].values.argmax(axis=1)\n",
    "\n",
    "X_train, X_test, y_train, y_test = train_test_split(X, y, test_size=0.2, random_state=42)\n",
    "\n",
    "model = RandomForestClassifier(random_state=42)\n",
    "model.fit(X_train, y_train)\n",
    "\n",
    "y_pred = model.predict(X_test)\n",
    "accuracy = accuracy_score(y_test, y_pred)\n",
    "print(f\"Model Accuracy: {accuracy:.2f}\")\n",
    "print(\"\\nClassification Report:\")\n",
    "print(classification_report(y_test, y_pred))"
   ]
  },
  {
   "cell_type": "code",
   "execution_count": 4,
   "id": "b02ac765-ea92-494c-8b90-ed9a33d4472e",
   "metadata": {},
   "outputs": [
    {
     "name": "stdout",
     "output_type": "stream",
     "text": [
      "Сетка параметров:\n",
      "{'C': [0.001, 0.01, 0.1, 1, 10, 100], 'gamma': [0.001, 0.01, 0.1, 1, 10, 100]}\n",
      "Точность на тестовой выборке: 0.21\n",
      "\n",
      "Классификационный отчет:\n",
      "              precision    recall  f1-score   support\n",
      "\n",
      "           0       0.21      1.00      0.35        42\n",
      "           1       0.00      0.00      0.00        31\n",
      "           2       0.00      0.00      0.00        24\n",
      "           3       0.00      0.00      0.00        34\n",
      "           4       0.00      0.00      0.00        29\n",
      "           5       0.00      0.00      0.00        40\n",
      "\n",
      "    accuracy                           0.21       200\n",
      "   macro avg       0.03      0.17      0.06       200\n",
      "weighted avg       0.04      0.21      0.07       200\n",
      "\n"
     ]
    },
    {
     "name": "stderr",
     "output_type": "stream",
     "text": [
      "C:\\Users\\Azama\\PycharmProjects\\Lab6_7\\.venv\\Lib\\site-packages\\sklearn\\metrics\\_classification.py:1531: UndefinedMetricWarning: Precision is ill-defined and being set to 0.0 in labels with no predicted samples. Use `zero_division` parameter to control this behavior.\n",
      "  _warn_prf(average, modifier, f\"{metric.capitalize()} is\", len(result))\n",
      "C:\\Users\\Azama\\PycharmProjects\\Lab6_7\\.venv\\Lib\\site-packages\\sklearn\\metrics\\_classification.py:1531: UndefinedMetricWarning: Precision is ill-defined and being set to 0.0 in labels with no predicted samples. Use `zero_division` parameter to control this behavior.\n",
      "  _warn_prf(average, modifier, f\"{metric.capitalize()} is\", len(result))\n",
      "C:\\Users\\Azama\\PycharmProjects\\Lab6_7\\.venv\\Lib\\site-packages\\sklearn\\metrics\\_classification.py:1531: UndefinedMetricWarning: Precision is ill-defined and being set to 0.0 in labels with no predicted samples. Use `zero_division` parameter to control this behavior.\n",
      "  _warn_prf(average, modifier, f\"{metric.capitalize()} is\", len(result))\n"
     ]
    }
   ],
   "source": [
    "from sklearn.metrics import accuracy_score, classification_report\n",
    "from sklearn.model_selection import GridSearchCV\n",
    "from sklearn.svm import SVC\n",
    "\n",
    "# Определение сетки параметров\n",
    "param_grid = {\n",
    "    'C': [0.001, 0.01, 0.1, 1, 10, 100],  \n",
    "    'gamma': [0.001, 0.01, 0.1, 1, 10, 100]\n",
    "}\n",
    "\n",
    "print(\"Сетка параметров:\")\n",
    "print(param_grid)\n",
    "\n",
    "# Настройка и обучение модели с помощью GridSearchCV\n",
    "grid_search = GridSearchCV(SVC(), param_grid, cv=5)\n",
    "grid_search.fit(X_train, y_train)\n",
    "\n",
    "# Предсказания и оценка точности\n",
    "y_pred_log = grid_search.predict(X_test)\n",
    "print(\"Точность на тестовой выборке: {:.2f}\".format(grid_search.score(X_test, y_test)))\n",
    "\n",
    "# Классификационный отчёт\n",
    "print(\"\\nКлассификационный отчет:\")\n",
    "print(classification_report(y_test, y_pred_log))"
   ]
  },
  {
   "cell_type": "code",
   "execution_count": 5,
   "id": "515ea8f3-fca9-4aef-83de-75398ad6afeb",
   "metadata": {},
   "outputs": [
    {
     "name": "stdout",
     "output_type": "stream",
     "text": [
      "Точность модели логистической регрессии = 0.20\n",
      "Confusion matrix:\n",
      "[[30  3  2  5  1  1]\n",
      " [18  4  0  3  3  3]\n",
      " [16  3  1  3  1  0]\n",
      " [26  4  1  0  1  2]\n",
      " [22  2  0  3  1  1]\n",
      " [34  1  0  2  0  3]]\n"
     ]
    },
    {
     "name": "stderr",
     "output_type": "stream",
     "text": [
      "C:\\Users\\Azama\\PycharmProjects\\Lab6_7\\.venv\\Lib\\site-packages\\sklearn\\linear_model\\_logistic.py:469: ConvergenceWarning: lbfgs failed to converge (status=1):\n",
      "STOP: TOTAL NO. of f AND g EVALUATIONS EXCEEDS LIMIT.\n",
      "\n",
      "Increase the number of iterations (max_iter) or scale the data as shown in:\n",
      "    https://scikit-learn.org/stable/modules/preprocessing.html\n",
      "Please also refer to the documentation for alternative solver options:\n",
      "    https://scikit-learn.org/stable/modules/linear_model.html#logistic-regression\n",
      "  n_iter_i = _check_optimize_result(\n"
     ]
    }
   ],
   "source": [
    "from sklearn.metrics import accuracy_score\n",
    "from sklearn.linear_model import LogisticRegression\n",
    "from sklearn.metrics import confusion_matrix\n",
    "\n",
    "# Настройка и обучение модели логистической регрессии\n",
    "log_reg = LogisticRegression(max_iter=20000, random_state=42)\n",
    "log_reg.fit(X_train, y_train)\n",
    "\n",
    "# Предсказания и оценка точности\n",
    "y_pred_log = log_reg.predict(X_test)\n",
    "accuracy_log = accuracy_score(y_test, y_pred_log)\n",
    "print(f\"Точность модели логистической регрессии = {accuracy_log:.2f}\")\n",
    "\n",
    "# Матрица ошибок\n",
    "print(\"Confusion matrix:\\n{}\".format(confusion_matrix(y_test, y_pred_log)))"
   ]
  },
  {
   "cell_type": "code",
   "execution_count": 6,
   "id": "5c08d4d1-71df-473d-9222-d0bcf64c6b6e",
   "metadata": {},
   "outputs": [
    {
     "name": "stdout",
     "output_type": "stream",
     "text": [
      "Точность модели: 0.21\n",
      "\n",
      "Классификационный отчет:\n",
      "              precision    recall  f1-score   support\n",
      "\n",
      "           0       0.29      0.38      0.33        42\n",
      "           1       0.29      0.23      0.25        31\n",
      "           2       0.18      0.17      0.17        24\n",
      "           3       0.13      0.12      0.12        34\n",
      "           4       0.16      0.24      0.19        29\n",
      "           5       0.20      0.12      0.15        40\n",
      "\n",
      "    accuracy                           0.21       200\n",
      "   macro avg       0.21      0.21      0.20       200\n",
      "weighted avg       0.21      0.21      0.21       200\n",
      "\n",
      "Точность на тестовой выборке: 0.21\n"
     ]
    }
   ],
   "source": [
    "from sklearn.feature_selection import SelectFromModel\n",
    "from sklearn.ensemble import RandomForestClassifier\n",
    "\n",
    "# Инициализация и обучение модели для отбора признаков\n",
    "selector = SelectFromModel(RandomForestClassifier(n_estimators=100, random_state=42))\n",
    "selector.fit(X_train, y_train)\n",
    "\n",
    "# Применение отбора признаков к данным\n",
    "X_train_selected = selector.transform(X_train)\n",
    "X_test_selected = selector.transform(X_test)\n",
    "\n",
    "# Продолжение с обучением модели и предсказанием (например, с RandomForest)\n",
    "model = RandomForestClassifier(random_state=42)\n",
    "model.fit(X_train_selected, y_train)\n",
    "\n",
    "y_pred = model.predict(X_test_selected)\n",
    "accuracy = accuracy_score(y_test, y_pred)\n",
    "print(f\"Точность модели: {accuracy:.2f}\")\n",
    "print(\"\\nКлассификационный отчет:\")\n",
    "print(classification_report(y_test, y_pred))\n",
    "\n",
    "# Настройка и обучение модели с помощью GridSearchCV\n",
    "grid_search = GridSearchCV(SVC(), param_grid, cv=5)\n",
    "grid_search.fit(X_train_selected, y_train)\n",
    "\n",
    "# Оценка точности на тестовом наборе\n",
    "print(\"Точность на тестовой выборке: {:.2f}\".format(grid_search.score(X_test_selected, y_test)))"
   ]
  },
  {
   "cell_type": "code",
   "execution_count": 7,
   "id": "374aec9b-0ee1-46a8-adac-d819b60c2136",
   "metadata": {},
   "outputs": [
    {
     "name": "stdout",
     "output_type": "stream",
     "text": [
      "Точность модели логистической регрессии = 0.20\n"
     ]
    },
    {
     "name": "stderr",
     "output_type": "stream",
     "text": [
      "C:\\Users\\Azama\\PycharmProjects\\Lab6_7\\.venv\\Lib\\site-packages\\sklearn\\linear_model\\_logistic.py:469: ConvergenceWarning: lbfgs failed to converge (status=1):\n",
      "STOP: TOTAL NO. of f AND g EVALUATIONS EXCEEDS LIMIT.\n",
      "\n",
      "Increase the number of iterations (max_iter) or scale the data as shown in:\n",
      "    https://scikit-learn.org/stable/modules/preprocessing.html\n",
      "Please also refer to the documentation for alternative solver options:\n",
      "    https://scikit-learn.org/stable/modules/linear_model.html#logistic-regression\n",
      "  n_iter_i = _check_optimize_result(\n"
     ]
    }
   ],
   "source": [
    "from sklearn.metrics import accuracy_score\n",
    "from sklearn.linear_model import LogisticRegression\n",
    "from sklearn.metrics import confusion_matrix\n",
    "\n",
    "# Настройка и обучение модели логистической регрессии\n",
    "log_reg = LogisticRegression(max_iter=20000, random_state=42)\n",
    "log_reg.fit(X_train, y_train)\n",
    "\n",
    "# Предсказания и оценка точности\n",
    "y_pred_log = log_reg.predict(X_test)\n",
    "accuracy_log = accuracy_score(y_test, y_pred_log)\n",
    "print(f\"Точность модели логистической регрессии = {accuracy_log:.2f}\")"
   ]
  },
  {
   "cell_type": "code",
   "execution_count": 8,
   "id": "43cba792-267e-4f5c-9ab9-bc99171e69e5",
   "metadata": {},
   "outputs": [
    {
     "name": "stdout",
     "output_type": "stream",
     "text": [
      "Точность на тестовой выборке: 0.21\n"
     ]
    }
   ],
   "source": [
    "from sklearn.preprocessing import PolynomialFeatures\n",
    "from sklearn.model_selection import GridSearchCV\n",
    "from sklearn.svm import SVC\n",
    "\n",
    "# Создание полиномиальных признаков (только взаимодействия, степень 2)\n",
    "poly = PolynomialFeatures(degree=2, interaction_only=True)\n",
    "X_train_poly = poly.fit_transform(X_train)\n",
    "X_test_poly = poly.transform(X_test)\n",
    "\n",
    "# Настройка и обучение модели с помощью GridSearchCV\n",
    "grid_search = GridSearchCV(SVC(), param_grid, cv=5)\n",
    "grid_search.fit(X_train_poly, y_train)\n",
    "\n",
    "# Оценка точности на тестовом наборе\n",
    "print(\"Точность на тестовой выборке: {:.2f}\".format(grid_search.score(X_test_poly, y_test)))"
   ]
  },
  {
   "cell_type": "code",
   "execution_count": 9,
   "id": "f36ca476-e9b9-472d-b02c-258c8969cb8d",
   "metadata": {},
   "outputs": [
    {
     "name": "stdout",
     "output_type": "stream",
     "text": [
      "Точность модели логистической регрессии = 0.20\n"
     ]
    },
    {
     "name": "stderr",
     "output_type": "stream",
     "text": [
      "C:\\Users\\Azama\\PycharmProjects\\Lab6_7\\.venv\\Lib\\site-packages\\sklearn\\linear_model\\_logistic.py:469: ConvergenceWarning: lbfgs failed to converge (status=1):\n",
      "STOP: TOTAL NO. of f AND g EVALUATIONS EXCEEDS LIMIT.\n",
      "\n",
      "Increase the number of iterations (max_iter) or scale the data as shown in:\n",
      "    https://scikit-learn.org/stable/modules/preprocessing.html\n",
      "Please also refer to the documentation for alternative solver options:\n",
      "    https://scikit-learn.org/stable/modules/linear_model.html#logistic-regression\n",
      "  n_iter_i = _check_optimize_result(\n"
     ]
    }
   ],
   "source": [
    "from sklearn.metrics import accuracy_score\n",
    "from sklearn.linear_model import LogisticRegression\n",
    "from sklearn.metrics import confusion_matrix\n",
    "\n",
    "# Настройка и обучение модели логистической регрессии\n",
    "log_reg = LogisticRegression(max_iter=20000, random_state=42)\n",
    "log_reg.fit(X_train, y_train)\n",
    "\n",
    "# Предсказания и оценка точности\n",
    "y_pred_log = log_reg.predict(X_test)\n",
    "accuracy_log = accuracy_score(y_test, y_pred_log)\n",
    "print(f\"Точность модели логистической регрессии = {accuracy_log:.2f}\")"
   ]
  },
  {
   "cell_type": "code",
   "execution_count": 10,
   "id": "217ac067-c25d-4d7e-ad50-a300effb84fa",
   "metadata": {},
   "outputs": [
    {
     "name": "stdout",
     "output_type": "stream",
     "text": [
      "Точность на тестовой выборке: 0.21\n"
     ]
    }
   ],
   "source": [
    "from sklearn.decomposition import PCA\n",
    "from sklearn.model_selection import GridSearchCV\n",
    "from sklearn.svm import SVC\n",
    "\n",
    "# Применение PCA для снижения размерности (10 компонент)\n",
    "pca = PCA(n_components=10)\n",
    "X_train_pca = pca.fit_transform(X_train)\n",
    "X_test_pca = pca.transform(X_test)\n",
    "\n",
    "# Настройка и обучение модели с помощью GridSearchCV\n",
    "grid_search = GridSearchCV(SVC(), param_grid, cv=5)\n",
    "grid_search.fit(X_train_pca, y_train)\n",
    "\n",
    "# Оценка точности на тестовом наборе\n",
    "print(\"Точность на тестовой выборке: {:.2f}\".format(grid_search.score(X_test_pca, y_test)))"
   ]
  },
  {
   "cell_type": "code",
   "execution_count": 11,
   "id": "90fce6b6-5b57-45fe-bc26-9901e7fffeb7",
   "metadata": {},
   "outputs": [
    {
     "name": "stdout",
     "output_type": "stream",
     "text": [
      "Точность модели логистической регрессии = 0.20\n"
     ]
    },
    {
     "name": "stderr",
     "output_type": "stream",
     "text": [
      "C:\\Users\\Azama\\PycharmProjects\\Lab6_7\\.venv\\Lib\\site-packages\\sklearn\\linear_model\\_logistic.py:469: ConvergenceWarning: lbfgs failed to converge (status=1):\n",
      "STOP: TOTAL NO. of f AND g EVALUATIONS EXCEEDS LIMIT.\n",
      "\n",
      "Increase the number of iterations (max_iter) or scale the data as shown in:\n",
      "    https://scikit-learn.org/stable/modules/preprocessing.html\n",
      "Please also refer to the documentation for alternative solver options:\n",
      "    https://scikit-learn.org/stable/modules/linear_model.html#logistic-regression\n",
      "  n_iter_i = _check_optimize_result(\n"
     ]
    }
   ],
   "source": [
    "from sklearn.metrics import accuracy_score\n",
    "from sklearn.linear_model import LogisticRegression\n",
    "from sklearn.metrics import confusion_matrix\n",
    "\n",
    "# Настройка и обучение модели логистической регрессии\n",
    "log_reg = LogisticRegression(max_iter=20000, random_state=42)\n",
    "log_reg.fit(X_train, y_train)\n",
    "\n",
    "# Предсказания и оценка точности\n",
    "y_pred_log = log_reg.predict(X_test)\n",
    "accuracy_log = accuracy_score(y_test, y_pred_log)\n",
    "print(f\"Точность модели логистической регрессии = {accuracy_log:.2f}\")"
   ]
  },
  {
   "cell_type": "code",
   "execution_count": 12,
   "id": "77427cb5-64f9-464d-82ac-11e73284ba7c",
   "metadata": {},
   "outputs": [
    {
     "name": "stdout",
     "output_type": "stream",
     "text": [
      "Точность на тестовой выборке: 0.21\n"
     ]
    }
   ],
   "source": [
    "from sklearn.preprocessing import StandardScaler\n",
    "from sklearn.model_selection import GridSearchCV\n",
    "from sklearn.svm import SVC\n",
    "\n",
    "# Стандартизация данных (приведение к нулевому среднему и единичному стандартному отклонению)\n",
    "scaler = StandardScaler()\n",
    "X_train_scaled = scaler.fit_transform(X_train)\n",
    "X_test_scaled = scaler.transform(X_test)\n",
    "\n",
    "# Настройка и обучение модели с помощью GridSearchCV\n",
    "grid_search = GridSearchCV(SVC(), param_grid, cv=5)\n",
    "grid_search.fit(X_train_scaled, y_train)\n",
    "\n",
    "# Оценка точности на тестовом наборе\n",
    "print(\"Точность на тестовой выборке: {:.2f}\".format(grid_search.score(X_test_scaled, y_test)))"
   ]
  },
  {
   "cell_type": "code",
   "execution_count": 15,
   "id": "b4f55607-3570-4020-8290-13dd8b1bbb9b",
   "metadata": {},
   "outputs": [
    {
     "name": "stdout",
     "output_type": "stream",
     "text": [
      "Точность на обучающих данных: 0.96\n",
      "Точность на тестовых данных: 0.17\n",
      "\n",
      "Confusion Matrix:\n",
      "[[12  4  8  8  8  2]\n",
      " [ 4  5  7  7  6  2]\n",
      " [ 7  1  5  3  3  5]\n",
      " [13  5  2  0 11  3]\n",
      " [ 7  3  4  4  7  4]\n",
      " [14  3  8  1  9  5]]\n",
      "\n",
      "Classification Report:\n",
      "              precision    recall  f1-score   support\n",
      "\n",
      "           0       0.21      0.29      0.24        42\n",
      "           1       0.24      0.16      0.19        31\n",
      "           2       0.15      0.21      0.17        24\n",
      "           3       0.00      0.00      0.00        34\n",
      "           4       0.16      0.24      0.19        29\n",
      "           5       0.24      0.12      0.16        40\n",
      "\n",
      "    accuracy                           0.17       200\n",
      "   macro avg       0.17      0.17      0.16       200\n",
      "weighted avg       0.17      0.17      0.16       200\n",
      "\n"
     ]
    }
   ],
   "source": [
    "from sklearn.metrics import accuracy_score, classification_report, confusion_matrix\n",
    "from sklearn.preprocessing import StandardScaler\n",
    "from imblearn.over_sampling import RandomOverSampler\n",
    "from imblearn.pipeline import Pipeline\n",
    "from xgboost import XGBClassifier\n",
    "\n",
    "# Создание пайплайна с RandomOverSampler\n",
    "pipeline = Pipeline([\n",
    "    ('scaler', StandardScaler()),  # Стандартизация данных\n",
    "    ('ros', RandomOverSampler(random_state=42)),  # Балансировка классов с использованием RandomOverSampler\n",
    "    ('xgb', XGBClassifier(\n",
    "        random_state=42, \n",
    "        eval_metric='mlogloss', \n",
    "        n_estimators=200, \n",
    "        max_depth=5, \n",
    "        learning_rate=0.1\n",
    "    ))  # Классификатор XGBoost\n",
    "])\n",
    "\n",
    "# Обучение модели\n",
    "pipeline.fit(X_train, y_train)\n",
    "\n",
    "# Предсказания на обучающих и тестовых данных\n",
    "y_train_pred = pipeline.predict(X_train)\n",
    "y_test_pred = pipeline.predict(X_test)\n",
    "\n",
    "# Оценка точности на обучающих данных\n",
    "train_accuracy = accuracy_score(y_train, y_train_pred)\n",
    "print(f\"Точность на обучающих данных: {train_accuracy:.2f}\")\n",
    "\n",
    "# Оценка точности на тестовых данных\n",
    "test_accuracy = accuracy_score(y_test, y_test_pred)\n",
    "print(f\"Точность на тестовых данных: {test_accuracy:.2f}\")\n",
    "\n",
    "# Вывод матрицы ошибок и классификационного отчета\n",
    "print(\"\\nConfusion Matrix:\")\n",
    "print(confusion_matrix(y_test, y_test_pred))\n",
    "print(\"\\nClassification Report:\")\n",
    "print(classification_report(y_test, y_test_pred))"
   ]
  },
  {
   "cell_type": "markdown",
   "id": "e1a60a02-e922-407e-968a-5dee8ebbeb12",
   "metadata": {},
   "source": [
    "Эксперименты с различными методами машинного обучения, включая логистическую регрессию, случайный лес и решетчатый поиск, показали, что точность моделей остаётся неизменной, несмотря на настройку гиперпараметров и применение методов балансировки данных. Это связано с тем, что в случайно созданном наборе данных признаки не имеют значимой связи с целевой переменной, такой как выбор места отдыха. В реальных задачах, например, более высокий уровень дохода может коррелировать с выбором более дорогих курортов, что позволяло бы моделям выявлять зависимости и делать точные прогнозы. Однако в текущем наборе данных такие зависимости отсутствуют, что объясняет низкую точность моделей. Таким образом, добиться улучшения точности невозможно без изменения данных, чтобы они отражали реальные закономерности и взаимосвязи."
   ]
  }
 ],
 "metadata": {
  "kernelspec": {
   "display_name": "Python 3 (ipykernel)",
   "language": "python",
   "name": "python3"
  },
  "language_info": {
   "codemirror_mode": {
    "name": "ipython",
    "version": 3
   },
   "file_extension": ".py",
   "mimetype": "text/x-python",
   "name": "python",
   "nbconvert_exporter": "python",
   "pygments_lexer": "ipython3",
   "version": "3.12.6"
  }
 },
 "nbformat": 4,
 "nbformat_minor": 5
}
